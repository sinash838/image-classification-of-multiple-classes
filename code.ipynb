{
 "cells": [
  {
   "cell_type": "markdown",
   "metadata": {},
   "source": [
    "# image classification of multiple classes"
   ]
  },
  {
   "cell_type": "code",
   "execution_count": 1,
   "metadata": {},
   "outputs": [],
   "source": [
    "import os\n",
    "from PIL import Image\n",
    "import numpy as np\n",
    "import cv2\n",
    "from tensorflow import keras\n",
    "from tensorflow.keras.utils import to_categorical\n",
    "import tensorflow as tf"
   ]
  },
  {
   "cell_type": "code",
   "execution_count": 92,
   "metadata": {},
   "outputs": [],
   "source": [
    "from keras.models import Sequential\n",
    "from keras.layers import Conv2D,MaxPooling2D,Dense,Flatten,Dropout"
   ]
  },
  {
   "cell_type": "code",
   "execution_count": 2,
   "metadata": {},
   "outputs": [],
   "source": [
    "data=[]\n",
    "labels=[]"
   ]
  },
  {
   "cell_type": "markdown",
   "metadata": {},
   "source": [
    "reading the data (images)"
   ]
  },
  {
   "cell_type": "code",
   "execution_count": 84,
   "metadata": {},
   "outputs": [],
   "source": [
    "cats=os.listdir(\"cats\")\n",
    "for cat in cats:\n",
    "    imag=cv2.imread(\"cats/\"+cat)\n",
    "    img_from_ar = Image.fromarray(imag, 'RGB')\n",
    "    resized_image = img_from_ar.resize((50, 50))\n",
    "    data.append(np.array(resized_image))\n",
    "    labels.append(0)\n",
    "dogs=os.listdir(\"dogs\")\n",
    "for dog in dogs:\n",
    "    imag=cv2.imread(\"dogs/\"+dog)\n",
    "    img_from_ar = Image.fromarray(imag, 'RGB')\n",
    "    resized_image = img_from_ar.resize((50, 50))\n",
    "    data.append(np.array(resized_image))\n",
    "    labels.append(1)\n",
    "    \n",
    "pandas=os.listdir(\"pandas\")\n",
    "for panda in pandas:\n",
    "    imag=cv2.imread(\"pandas/\"+panda)\n",
    "    img_from_ar = Image.fromarray(imag, 'RGB')\n",
    "    resized_image = img_from_ar.resize((50, 50))\n",
    "    data.append(np.array(resized_image))\n",
    "    labels.append(2)\n",
    "cars =os.listdir(\"cars1\")\n",
    "for car in cars:\n",
    "    imag=cv2.imread(\"cars/\"+car)\n",
    "    img_from_ar = Image.fromarray(imag, 'RGB')\n",
    "    resized_image = img_from_ar.resize((50, 50))\n",
    "    data.append(np.array(resized_image))\n",
    "    labels.append(3)"
   ]
  },
  {
   "cell_type": "markdown",
   "metadata": {},
   "source": [
    "generating numpy array"
   ]
  },
  {
   "cell_type": "code",
   "execution_count": 85,
   "metadata": {},
   "outputs": [],
   "source": [
    "animals=np.array(data)\n",
    "labels=np.array(labels)\n",
    "np.save(\"animals\",animals)\n",
    "np.save(\"labels\",labels)"
   ]
  },
  {
   "cell_type": "code",
   "execution_count": 86,
   "metadata": {},
   "outputs": [],
   "source": [
    "animals=np.load(\"animals.npy\")\n",
    "labels=np.load(\"labels.npy\")"
   ]
  },
  {
   "cell_type": "code",
   "execution_count": 87,
   "metadata": {},
   "outputs": [],
   "source": [
    "s=np.arange(animals.shape[0])\n",
    "np.random.shuffle(s)\n",
    "animals=animals[s]\n",
    "labels=labels[s]"
   ]
  },
  {
   "cell_type": "code",
   "execution_count": 88,
   "metadata": {},
   "outputs": [],
   "source": [
    "num_classes=len(np.unique(labels))\n",
    "data_length=len(animals)"
   ]
  },
  {
   "cell_type": "code",
   "execution_count": 89,
   "metadata": {},
   "outputs": [],
   "source": [
    "(x_train,x_test)=animals[(int)(0.1*data_length):],animals[:(int)(0.1*data_length)]\n",
    "x_train = x_train.astype('float32')/255\n",
    "x_test = x_test.astype('float32')/255\n",
    "train_length=len(x_train)\n",
    "test_length=len(x_test)"
   ]
  },
  {
   "cell_type": "code",
   "execution_count": 90,
   "metadata": {},
   "outputs": [],
   "source": [
    "(y_train,y_test)=labels[(int)(0.1*data_length):],labels[:(int)(0.1*data_length)]"
   ]
  },
  {
   "cell_type": "code",
   "execution_count": 91,
   "metadata": {},
   "outputs": [],
   "source": [
    "y_train=keras.utils.to_categorical(y_train,num_classes)\n",
    "y_test=keras.utils.to_categorical(y_test,num_classes)"
   ]
  },
  {
   "cell_type": "code",
   "execution_count": 140,
   "metadata": {},
   "outputs": [],
   "source": [
    "#callback = tf.keras.callbacks.EarlyStopping(monitor='val_accuracy', patience=3)\n",
    "callback = tf.keras.callbacks.EarlyStopping(monitor='loss', patience=3)\n"
   ]
  },
  {
   "cell_type": "markdown",
   "metadata": {},
   "source": [
    "## model\n",
    "3 conv layares followed by maxpooling extracting deeper features\n",
    "dropout layers add to avoid overfitting"
   ]
  },
  {
   "cell_type": "code",
   "execution_count": 141,
   "metadata": {},
   "outputs": [
    {
     "name": "stdout",
     "output_type": "stream",
     "text": [
      "Model: \"sequential_18\"\n",
      "_________________________________________________________________\n",
      "Layer (type)                 Output Shape              Param #   \n",
      "=================================================================\n",
      "conv2d_54 (Conv2D)           (None, 50, 50, 16)        448       \n",
      "_________________________________________________________________\n",
      "max_pooling2d_54 (MaxPooling (None, 25, 25, 16)        0         \n",
      "_________________________________________________________________\n",
      "conv2d_55 (Conv2D)           (None, 25, 25, 32)        4640      \n",
      "_________________________________________________________________\n",
      "max_pooling2d_55 (MaxPooling (None, 12, 12, 32)        0         \n",
      "_________________________________________________________________\n",
      "conv2d_56 (Conv2D)           (None, 12, 12, 64)        18496     \n",
      "_________________________________________________________________\n",
      "max_pooling2d_56 (MaxPooling (None, 6, 6, 64)          0         \n",
      "_________________________________________________________________\n",
      "dropout_36 (Dropout)         (None, 6, 6, 64)          0         \n",
      "_________________________________________________________________\n",
      "flatten_18 (Flatten)         (None, 2304)              0         \n",
      "_________________________________________________________________\n",
      "dense_36 (Dense)             (None, 500)               1152500   \n",
      "_________________________________________________________________\n",
      "dropout_37 (Dropout)         (None, 500)               0         \n",
      "_________________________________________________________________\n",
      "dense_37 (Dense)             (None, 4)                 2004      \n",
      "=================================================================\n",
      "Total params: 1,178,088\n",
      "Trainable params: 1,178,088\n",
      "Non-trainable params: 0\n",
      "_________________________________________________________________\n"
     ]
    }
   ],
   "source": [
    "\n",
    "model=Sequential()\n",
    "model.add(Conv2D(filters=16,kernel_size=3,padding=\"same\",activation=\"relu\",input_shape=(50,50,3)))\n",
    "model.add(MaxPooling2D(pool_size=2))\n",
    "\n",
    "model.add(Conv2D(filters=32,kernel_size=3,padding=\"same\",activation=\"relu\"))\n",
    "model.add(MaxPooling2D(pool_size=2))\n",
    "\n",
    "model.add(Conv2D(filters=64,kernel_size=3,padding=\"same\",activation=\"relu\"))\n",
    "model.add(MaxPooling2D(pool_size=2))\n",
    "\n",
    "model.add(Dropout(0.2))   \n",
    "\n",
    "model.add(Flatten())\n",
    "model.add(Dense(500,activation=\"relu\"))\n",
    "model.add(Dropout(0.2))\n",
    "\n",
    "model.add(Dense(4,activation=\"softmax\"))  # to change number of classes we have to change the number of nodes in this layer\n",
    "#model.add(Dense(3,activation=\"softmax\"))\n",
    "\n",
    "model.summary()"
   ]
  },
  {
   "cell_type": "code",
   "execution_count": 142,
   "metadata": {},
   "outputs": [],
   "source": [
    "model.compile(loss='categorical_crossentropy', optimizer='adam', \n",
    "                  metrics=['accuracy'])\n"
   ]
  },
  {
   "cell_type": "code",
   "execution_count": 143,
   "metadata": {},
   "outputs": [
    {
     "name": "stdout",
     "output_type": "stream",
     "text": [
      "Epoch 1/50\n",
      "191/191 [==============================] - 14s 66ms/step - loss: 0.9201 - accuracy: 0.5213 - val_loss: 0.6612 - val_accuracy: 0.6912\n",
      "Epoch 2/50\n",
      "191/191 [==============================] - 12s 65ms/step - loss: 0.6108 - accuracy: 0.7100 - val_loss: 0.6234 - val_accuracy: 0.7233\n",
      "Epoch 3/50\n",
      "191/191 [==============================] - 13s 67ms/step - loss: 0.5476 - accuracy: 0.7493 - val_loss: 0.5745 - val_accuracy: 0.7413\n",
      "Epoch 4/50\n",
      "191/191 [==============================] - 13s 68ms/step - loss: 0.5144 - accuracy: 0.7621 - val_loss: 0.5801 - val_accuracy: 0.7441\n",
      "Epoch 5/50\n",
      "191/191 [==============================] - 13s 69ms/step - loss: 0.4642 - accuracy: 0.7940 - val_loss: 0.5759 - val_accuracy: 0.7375\n",
      "Epoch 6/50\n",
      "191/191 [==============================] - 13s 69ms/step - loss: 0.4092 - accuracy: 0.8178 - val_loss: 0.5036 - val_accuracy: 0.7809\n",
      "Epoch 7/50\n",
      "191/191 [==============================] - 13s 67ms/step - loss: 0.3803 - accuracy: 0.8335 - val_loss: 0.5002 - val_accuracy: 0.7800\n",
      "Epoch 8/50\n",
      "191/191 [==============================] - 13s 69ms/step - loss: 0.3420 - accuracy: 0.8513 - val_loss: 0.4943 - val_accuracy: 0.7913\n",
      "Epoch 9/50\n",
      "191/191 [==============================] - 14s 74ms/step - loss: 0.3040 - accuracy: 0.8696 - val_loss: 0.4896 - val_accuracy: 0.7998\n",
      "Epoch 10/50\n",
      "191/191 [==============================] - 14s 72ms/step - loss: 0.2651 - accuracy: 0.8955 - val_loss: 0.4953 - val_accuracy: 0.7951\n",
      "Epoch 11/50\n",
      "191/191 [==============================] - 15s 77ms/step - loss: 0.2241 - accuracy: 0.9124 - val_loss: 0.5120 - val_accuracy: 0.7989\n",
      "Epoch 12/50\n",
      "191/191 [==============================] - 15s 78ms/step - loss: 0.2111 - accuracy: 0.9158 - val_loss: 0.5720 - val_accuracy: 0.7894\n",
      "Epoch 13/50\n",
      "191/191 [==============================] - 16s 83ms/step - loss: 0.1883 - accuracy: 0.9230 - val_loss: 0.5986 - val_accuracy: 0.7970\n",
      "Epoch 14/50\n",
      "191/191 [==============================] - 16s 83ms/step - loss: 0.1549 - accuracy: 0.9394 - val_loss: 0.5640 - val_accuracy: 0.8196\n",
      "Epoch 15/50\n",
      "191/191 [==============================] - 14s 71ms/step - loss: 0.1215 - accuracy: 0.9574 - val_loss: 0.5979 - val_accuracy: 0.8083\n",
      "Epoch 16/50\n",
      "191/191 [==============================] - 14s 72ms/step - loss: 0.1271 - accuracy: 0.9510 - val_loss: 0.6071 - val_accuracy: 0.8130\n",
      "Epoch 17/50\n",
      "191/191 [==============================] - 13s 70ms/step - loss: 0.0913 - accuracy: 0.9695 - val_loss: 0.6633 - val_accuracy: 0.8074\n",
      "Epoch 18/50\n",
      "191/191 [==============================] - 14s 75ms/step - loss: 0.0772 - accuracy: 0.9711 - val_loss: 0.7154 - val_accuracy: 0.7951\n",
      "Epoch 19/50\n",
      "191/191 [==============================] - 16s 84ms/step - loss: 0.0771 - accuracy: 0.9711 - val_loss: 0.7621 - val_accuracy: 0.7904\n",
      "Epoch 20/50\n",
      "191/191 [==============================] - 14s 73ms/step - loss: 0.0681 - accuracy: 0.9769 - val_loss: 0.7747 - val_accuracy: 0.7960\n",
      "Epoch 21/50\n",
      "191/191 [==============================] - 15s 77ms/step - loss: 0.0628 - accuracy: 0.9782 - val_loss: 0.8126 - val_accuracy: 0.7923\n",
      "Epoch 22/50\n",
      "191/191 [==============================] - 14s 71ms/step - loss: 0.0587 - accuracy: 0.9797 - val_loss: 0.7421 - val_accuracy: 0.8083\n",
      "Epoch 23/50\n",
      "191/191 [==============================] - 14s 71ms/step - loss: 0.0459 - accuracy: 0.9850 - val_loss: 0.8217 - val_accuracy: 0.8130\n",
      "Epoch 24/50\n",
      "191/191 [==============================] - 13s 70ms/step - loss: 0.0747 - accuracy: 0.9755 - val_loss: 0.7966 - val_accuracy: 0.7979\n",
      "Epoch 25/50\n",
      "191/191 [==============================] - 13s 69ms/step - loss: 0.0310 - accuracy: 0.9900 - val_loss: 0.8477 - val_accuracy: 0.8008\n",
      "Epoch 26/50\n",
      "191/191 [==============================] - 14s 73ms/step - loss: 0.0334 - accuracy: 0.9883 - val_loss: 0.8307 - val_accuracy: 0.7989\n",
      "Epoch 27/50\n",
      "191/191 [==============================] - 14s 72ms/step - loss: 0.0371 - accuracy: 0.9866 - val_loss: 0.8845 - val_accuracy: 0.8026\n",
      "Epoch 28/50\n",
      "191/191 [==============================] - 13s 70ms/step - loss: 0.0420 - accuracy: 0.9844 - val_loss: 0.8974 - val_accuracy: 0.8017\n"
     ]
    }
   ],
   "source": [
    "history = model.fit(x_train,y_train,batch_size=50\n",
    "          ,epochs=50,verbose=1,validation_data=(x_test, y_test),callbacks=[callback])"
   ]
  },
  {
   "cell_type": "code",
   "execution_count": null,
   "metadata": {},
   "outputs": [],
   "source": []
  },
  {
   "cell_type": "code",
   "execution_count": 160,
   "metadata": {},
   "outputs": [
    {
     "name": "stdout",
     "output_type": "stream",
     "text": [
      "34/34 - 0s - loss: 0.8974 - accuracy: 0.8017\n",
      "0.801699697971344\n"
     ]
    },
    {
     "data": {
      "image/png": "[encoded data removed]",
      "text/plain": [
       "<Figure size 432x288 with 1 Axes>"
      ]
     },
     "metadata": {
      "needs_background": "light"
     },
     "output_type": "display_data"
    }
   ],
   "source": [
    "import matplotlib.pyplot as plt\n",
    "plt.plot(history.history['accuracy'], label='accuracy')\n",
    "plt.plot(history.history['val_accuracy'], label = 'val_accuracy')\n",
    "plt.xlabel('Epoch')\n",
    "plt.ylabel('Accuracy')\n",
    "plt.legend(loc='lower right')\n",
    "\n",
    "test_loss, test_acc = model.evaluate(x_test,  y_test, verbose=2)\n",
    "\n",
    "print(test_acc)"
   ]
  },
  {
   "cell_type": "code",
   "execution_count": 144,
   "metadata": {},
   "outputs": [],
   "source": [
    "def convert_to_array(img):\n",
    "    im = cv2.imread(img)\n",
    "    img = Image.fromarray(im, 'RGB')\n",
    "    image = img.resize((50, 50))\n",
    "    return np.array(image)\n",
    "def get_animal_name(label):\n",
    "    if label==0:\n",
    "        return \"cat\"\n",
    "    if label==1:\n",
    "        return \"dog\"\n",
    "    if label==2:\n",
    "        return \"panda\"\n",
    "    if label==3:\n",
    "        return \"car\"\n",
    "def predict_animal(file):\n",
    "    print(\"Predicting .................................\")\n",
    "    ar=convert_to_array(file)\n",
    "    ar=ar/255\n",
    "    label=1\n",
    "    a=[]\n",
    "    a.append(ar)\n",
    "    a=np.array(a)\n",
    "    score=model.predict(a,verbose=1)\n",
    "    print(score)\n",
    "    label_index=np.argmax(score)\n",
    "    print(label_index)\n",
    "    acc=np.max(score)\n",
    "    animal=get_animal_name(label_index)\n",
    "    print(animal)\n",
    "    print(\"The predicted thing is a \"+animal+\" with accuracy =    \"+str(acc))\n",
    "def predict_animal1(file):\n",
    "    print(\"Predicting .................................\")\n",
    "    ar=file\n",
    "    ar=ar/255\n",
    "    label=1\n",
    "    a=[]\n",
    "    a.append(ar)\n",
    "    a=np.array(a)\n",
    "    score=model.predict(a,verbose=1)\n",
    "    print(score)\n",
    "    label_index=np.argmax(score)\n",
    "    print(label_index)\n",
    "    acc=np.max(score)\n",
    "    animal=get_animal_name(label_index)\n",
    "    print(animal)\n",
    "    print(\"The predicted thing is a \"+animal+\" with accuracy =    \"+str(acc))\n"
   ]
  },
  {
   "cell_type": "markdown",
   "metadata": {},
   "source": [
    "some notes :\n",
    "    to add more classes we have to just add the reaading image part to the code \n",
    "    and add to number of nodes in the dense layer.\n",
    "    with added functions we can test any photo directly by using predict_animal(\"address\")"
   ]
  },
  {
   "cell_type": "code",
   "execution_count": 146,
   "metadata": {
    "scrolled": true
   },
   "outputs": [],
   "source": [
    "#cats=os.listdir(\"dogs\")\n",
    "#for dog in dogs:\n",
    "    #print(cat)\n",
    "    #predict_animal1(car)\n",
    "   \n",
    "    "
   ]
  },
  {
   "cell_type": "code",
   "execution_count": 147,
   "metadata": {},
   "outputs": [
    {
     "name": "stdout",
     "output_type": "stream",
     "text": [
      "Predicting .................................\n",
      "1/1 [==============================] - 0s 266ms/step\n",
      "[[5.5191390e-10 2.5183863e-07 2.4943472e-13 9.9999976e-01]]\n",
      "3\n",
      "car\n",
      "The predicted thing is a car with accuracy =    0.99999976\n"
     ]
    }
   ],
   "source": [
    "predict_animal(\"cars/Acura_ILX_2013_28_16_110_15_4_70_55_179_39_FWD_5_4_4dr_aWg.jpg\")"
   ]
  },
  {
   "cell_type": "code",
   "execution_count": 161,
   "metadata": {},
   "outputs": [
    {
     "name": "stdout",
     "output_type": "stream",
     "text": [
      "34/34 [==============================] - 0s 10ms/step - loss: 0.8974 - accuracy: 0.8017\n",
      "\n",
      " Test accuracy: 0.801699697971344\n"
     ]
    }
   ],
   "source": [
    "score = model.evaluate(x_test, y_test, verbose=1)\n",
    "print('\\n', 'Test accuracy:', score[1])\n"
   ]
  },
  {
   "cell_type": "code",
   "execution_count": 30,
   "metadata": {},
   "outputs": [
    {
     "data": {
      "text/plain": [
       "7500"
      ]
     },
     "execution_count": 30,
     "metadata": {},
     "output_type": "execute_result"
    }
   ],
   "source": [
    "x_test[0].size"
   ]
  },
  {
   "cell_type": "code",
   "execution_count": 32,
   "metadata": {},
   "outputs": [
    {
     "ename": "TypeError",
     "evalue": "predict() missing 1 required positional argument: 'x'",
     "output_type": "error",
     "traceback": [
      "\u001b[1;31m---------------------------------------------------------------------------\u001b[0m",
      "\u001b[1;31mTypeError\u001b[0m                                 Traceback (most recent call last)",
      "\u001b[1;32m<ipython-input-32-c14c5ee82961>\u001b[0m in \u001b[0;36m<module>\u001b[1;34m\u001b[0m\n\u001b[1;32m----> 1\u001b[1;33m \u001b[0mmodel\u001b[0m\u001b[1;33m.\u001b[0m\u001b[0mpredict\u001b[0m\u001b[1;33m(\u001b[0m\u001b[1;33m)\u001b[0m\u001b[1;33m\u001b[0m\u001b[1;33m\u001b[0m\u001b[0m\n\u001b[0m",
      "\u001b[1;31mTypeError\u001b[0m: predict() missing 1 required positional argument: 'x'"
     ]
    }
   ],
   "source": [
    "model.predict()"
   ]
  },
  {
   "cell_type": "code",
   "execution_count": 149,
   "metadata": {},
   "outputs": [
    {
     "name": "stdout",
     "output_type": "stream",
     "text": [
      "Predicting .................................\n",
      "1/1 [==============================] - 0s 16ms/step\n",
      "[[7.4522078e-02 9.2444164e-01 7.0847523e-06 1.0292223e-03]]\n",
      "1\n",
      "dog\n",
      "The predicted thing is a dog with accuracy =    0.92444164\n"
     ]
    }
   ],
   "source": [
    "predict_animal(\"test/dog in car.png\")"
   ]
  },
  {
   "cell_type": "code",
   "execution_count": 151,
   "metadata": {},
   "outputs": [
    {
     "name": "stdout",
     "output_type": "stream",
     "text": [
      "Predicting .................................\n",
      "1/1 [==============================] - 0s 14ms/step\n",
      "[[8.5153541e-04 9.9911207e-01 9.0844238e-10 3.6350455e-05]]\n",
      "1\n",
      "dog\n",
      "The predicted thing is a dog with accuracy =    0.99911207\n"
     ]
    }
   ],
   "source": [
    "predict_animal(\"test/dogcar.jpg\")"
   ]
  },
  {
   "cell_type": "code",
   "execution_count": 152,
   "metadata": {},
   "outputs": [
    {
     "name": "stdout",
     "output_type": "stream",
     "text": [
      "Predicting .................................\n",
      "1/1 [==============================] - 0s 19ms/step\n",
      "[[5.5191390e-10 2.5183863e-07 2.4943472e-13 9.9999976e-01]]\n",
      "3\n",
      "car\n",
      "The predicted thing is a car with accuracy =    0.99999976\n"
     ]
    }
   ],
   "source": [
    "predict_animal(\"cars/Acura_ILX_2013_28_16_110_15_4_70_55_179_39_FWD_5_4_4dr_aWg.jpg\")"
   ]
  },
  {
   "cell_type": "code",
   "execution_count": 153,
   "metadata": {},
   "outputs": [
    {
     "name": "stdout",
     "output_type": "stream",
     "text": [
      "Predicting .................................\n",
      "1/1 [==============================] - 0s 22ms/step\n",
      "[[8.9264504e-05 9.9991059e-01 7.9935711e-09 8.7236906e-08]]\n",
      "1\n",
      "dog\n",
      "The predicted thing is a dog with accuracy =    0.9999106\n"
     ]
    }
   ],
   "source": [
    "\n",
    "predict_animal(\"test/cardog.jfif\")"
   ]
  },
  {
   "cell_type": "code",
   "execution_count": 155,
   "metadata": {},
   "outputs": [
    {
     "name": "stdout",
     "output_type": "stream",
     "text": [
      "Predicting .................................\n",
      "1/1 [==============================] - 0s 15ms/step\n",
      "[[2.2970065e-08 2.7302119e-06 5.9133184e-12 9.9999726e-01]]\n",
      "3\n",
      "car\n",
      "The predicted thing is a car with accuracy =    0.99999726\n"
     ]
    }
   ],
   "source": [
    "predict_animal(\"test/cardog1.jfif\")"
   ]
  },
  {
   "cell_type": "code",
   "execution_count": 157,
   "metadata": {},
   "outputs": [
    {
     "name": "stdout",
     "output_type": "stream",
     "text": [
      "Predicting .................................\n",
      "1/1 [==============================] - 0s 19ms/step\n",
      "[[9.9492725e-04 1.6811638e-03 9.9732083e-01 3.1123784e-06]]\n",
      "2\n",
      "panda\n",
      "The predicted thing is a panda with accuracy =    0.99732083\n"
     ]
    }
   ],
   "source": [
    "predict_animal(\"test/panda1.jpg\")"
   ]
  },
  {
   "cell_type": "code",
   "execution_count": 158,
   "metadata": {},
   "outputs": [
    {
     "name": "stdout",
     "output_type": "stream",
     "text": [
      "Predicting .................................\n",
      "1/1 [==============================] - 0s 16ms/step\n",
      "[[1.1890039e-04 9.9988103e-01 1.8084774e-10 2.2781881e-08]]\n",
      "1\n",
      "dog\n",
      "The predicted thing is a dog with accuracy =    0.999881\n"
     ]
    }
   ],
   "source": [
    "predict_animal(\"test/catdog.jpg\")"
   ]
  },
  {
   "cell_type": "code",
   "execution_count": 159,
   "metadata": {},
   "outputs": [
    {
     "name": "stdout",
     "output_type": "stream",
     "text": [
      "Predicting .................................\n",
      "1/1 [==============================] - 0s 15ms/step\n",
      "[[9.9885738e-01 1.1425376e-03 1.0904812e-12 1.4484905e-07]]\n",
      "0\n",
      "cat\n",
      "The predicted thing is a cat with accuracy =    0.9988574\n"
     ]
    }
   ],
   "source": [
    "predict_animal(\"test/catdog1.jpg\")"
   ]
  },
  {
   "cell_type": "code",
   "execution_count": null,
   "metadata": {},
   "outputs": [],
   "source": []
  }
 ],
 "metadata": {
  "kernelspec": {
   "display_name": "Python 3",
   "language": "python",
   "name": "python3"
  },
  "language_info": {
   "codemirror_mode": {
    "name": "ipython",
    "version": 3
   },
   "file_extension": ".py",
   "mimetype": "text/x-python",
   "name": "python",
   "nbconvert_exporter": "python",
   "pygments_lexer": "ipython3",
   "version": "3.8.3"
  }
 },
 "nbformat": 4,
 "nbformat_minor": 4
}
